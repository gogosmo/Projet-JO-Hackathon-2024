{
 "cells": [
  {
   "cell_type": "code",
   "execution_count": 28,
   "id": "c3a3b8f3-de27-4441-ad6c-fdbdbdf1d9d4",
   "metadata": {},
   "outputs": [],
   "source": [
    "import pandas as pd\n",
    "from sqlalchemy import create_engine\n",
    "import plotly.express as px\n",
    "import plotly.graph_objects as go\n",
    "import numpy as np"
   ]
  },
  {
   "cell_type": "code",
   "execution_count": 2,
   "id": "3347cd12-e9e8-4f88-bae3-96817df0bc76",
   "metadata": {},
   "outputs": [],
   "source": [
    "conn_details = {\n",
    "    \"host\": \"postgresql-hackathon2024.alwaysdata.net\",\n",
    "    \"dbname\": \"hackathon2024_2\",\n",
    "    \"user\": \"hackathon2024_reader\",\n",
    "    \"password\": \"hackathon_2_reader\"\n",
    "}"
   ]
  },
  {
   "cell_type": "code",
   "execution_count": 3,
   "id": "1dbc327d-5454-47e5-82f3-58a7e7aecde9",
   "metadata": {},
   "outputs": [],
   "source": [
    "db_url = f\"postgresql+psycopg2://{conn_details['user']}:{conn_details['password']}@{conn_details['host']}/{conn_details['dbname']}\""
   ]
  },
  {
   "cell_type": "code",
   "execution_count": 4,
   "id": "e9ca16b9-caac-46b6-9380-988ae1182deb",
   "metadata": {},
   "outputs": [],
   "source": [
    "engine = create_engine(db_url)"
   ]
  },
  {
   "cell_type": "code",
   "execution_count": 5,
   "id": "889d79e4-602c-4458-a7b9-3977050a0aac",
   "metadata": {},
   "outputs": [
    {
     "data": {
      "text/html": [
       "<iframe\n",
       "    scrolling=\"no\"\n",
       "    width=\"100%\"\n",
       "    height=\"545px\"\n",
       "    src=\"iframe_figures/figure_5.html\"\n",
       "    frameborder=\"0\"\n",
       "    allowfullscreen\n",
       "></iframe>\n"
      ]
     },
     "metadata": {},
     "output_type": "display_data"
    }
   ],
   "source": [
    "# 1 hackathon\n",
    "df = pd.read_sql_query(\"SELECT * FROM olympic_hosts\", engine)\n",
    "df=pd.concat([df, pd.DataFrame({\"game_slug\": [\"paris-2024\"],\"game_location\": [\"France\"],\"game_name\": [\"Paris 2024\"],\"game_season\": [\"Summer\"],\"game_year\": [2024]})], ignore_index=True)\n",
    "# # les JO 2024 de France n'existe pas dans cette base de donées\n",
    "filtered_df=df[df['game_location'] == 'France']\n",
    "fig=px.pie(names=['Ete', 'Hiver'], values=[len(filtered_df[filtered_df['game_season'] == 'Summer']), len(filtered_df[filtered_df['game_season'] == 'Winter'])], title='Nombre de JO organiser en Ete et Hiver par la France')\n",
    "fig.show(renderer='iframe_connected')"
   ]
  },
  {
   "cell_type": "code",
   "execution_count": 6,
   "id": "52e138da-51f6-479c-beec-402705130eae",
   "metadata": {},
   "outputs": [
    {
     "data": {
      "text/html": [
       "<iframe\n",
       "    scrolling=\"no\"\n",
       "    width=\"100%\"\n",
       "    height=\"545px\"\n",
       "    src=\"iframe_figures/figure_6.html\"\n",
       "    frameborder=\"0\"\n",
       "    allowfullscreen\n",
       "></iframe>\n"
      ]
     },
     "metadata": {},
     "output_type": "display_data"
    }
   ],
   "source": [
    "# 2 hackathon\n",
    "fig = px.bar(df['game_location'].value_counts().reset_index(), x='game_location', y='count', title='Classement des pays qui a organisé le plus de JO')\n",
    "fig.show(renderer='iframe_connected')"
   ]
  },
  {
   "cell_type": "code",
   "execution_count": 7,
   "id": "6398b37e-678a-4d59-ac9c-ae7c048db7df",
   "metadata": {},
   "outputs": [
    {
     "name": "stdout",
     "output_type": "stream",
     "text": [
      "les Jo sont nés en Summer 1896 à Greece\n"
     ]
    }
   ],
   "source": [
    "# 3 hackathon\n",
    "df3=df[df['game_year'] != 'NaN']\n",
    "df3['game_year'] = pd.to_numeric(df3['game_year'], errors='coerce')\n",
    "res=df3.sort_values(by='game_year').iloc[0]\n",
    "print( \"les Jo sont nés en \"+res['game_season']+\" \"+str(res['game_year'])+\" à \"+res['game_location'])"
   ]
  },
  {
   "cell_type": "code",
   "execution_count": 8,
   "id": "b8865d13-53f1-41f7-b806-22407aafe459",
   "metadata": {},
   "outputs": [
    {
     "name": "stdout",
     "output_type": "stream",
     "text": [
      "les femmes peuvent participer au JO\n"
     ]
    }
   ],
   "source": [
    "# 4 hackathon\n",
    "filtered_game=df[df['game_location']=='France']\n",
    "filtered_game=filtered_game[filtered_game['game_year'] != 'NaN']\n",
    "filtered_game['game_year'] = pd.to_numeric(filtered_game['game_year'], errors='coerce')\n",
    "slug=filtered_game[filtered_game['game_year']==1900].iloc[0]['game_slug']\n",
    "df4=pd.read_sql_query(\"SELECT * FROM olympic_medals\", engine)\n",
    "filtered_df4=df4[df4['slug_game']== slug]\n",
    "print(\"les femmes \"+ (\"peuvent \" if len(filtered_df4[filtered_df4['event_gender']== \"Women\"]) !=0 else \"ne peuvent pas \")+\"participer au JO\")"
   ]
  },
  {
   "cell_type": "code",
   "execution_count": 9,
   "id": "21917929-a32c-4c95-b2ea-7276ae562a67",
   "metadata": {},
   "outputs": [
    {
     "name": "stdout",
     "output_type": "stream",
     "text": [
      "Christa LUDING-ROTHENBURGER a gagner des medailles en Summer de 1988 et en Winter de 1984, 1988, 1992\n",
      "\n",
      "Clara HUGHES a gagner des medailles en Summer de 1996 et en Winter de 2002, 2006, 2010\n",
      "\n",
      "Gillis GRAFSTRÖM a gagner des medailles en Summer de 1920 et en Winter de 1924, 1928, 1932\n",
      "\n",
      "Gunnar LARSSON a gagner des medailles en Summer de 1972 et en Winter de 1968\n",
      "\n"
     ]
    }
   ],
   "source": [
    "# 5 hackathon\n",
    "df5=pd.read_sql_query(\"SELECT om.athlete_full_name,olympic_hosts.game_year,olympic_hosts.game_season FROM olympic_medals as om inner join olympic_hosts on om.slug_game=olympic_hosts.game_slug \", engine)\n",
    "df5=df5[df5['athlete_full_name'] != 'NaN']\n",
    "df5=df5[df5.duplicated(subset='athlete_full_name', keep=False)].groupby(['athlete_full_name','game_season','game_year']).sum().reset_index().groupby(['athlete_full_name','game_season']).agg({\n",
    "    'game_year': ', '.join\n",
    "}).reset_index()\n",
    "df5=df5[df5.duplicated(subset=['athlete_full_name'], keep=False)]\n",
    "df5['message'] = \"en \"+df5['game_season'] +\" de \"+df5['game_year']\n",
    "df5 = df5.drop(columns=['game_season','game_year'])\n",
    "df5.groupby(['athlete_full_name']).agg({\n",
    "    'message': ' et '.join}).reset_index()\n",
    "for _index, row in df5.groupby(['athlete_full_name']).agg({'message': ' et '.join}).reset_index().iterrows():\n",
    "    print(row['athlete_full_name']+\" a gagner des medailles \"+ row['message']+\"\\n\")"
   ]
  },
  {
   "cell_type": "code",
   "execution_count": 10,
   "id": "071be33d-fb0b-470e-9fb7-5034703d5f56",
   "metadata": {},
   "outputs": [
    {
     "data": {
      "text/html": [
       "<iframe\n",
       "    scrolling=\"no\"\n",
       "    width=\"100%\"\n",
       "    height=\"545px\"\n",
       "    src=\"iframe_figures/figure_10.html\"\n",
       "    frameborder=\"0\"\n",
       "    allowfullscreen\n",
       "></iframe>\n"
      ]
     },
     "metadata": {},
     "output_type": "display_data"
    }
   ],
   "source": [
    "# 6 hackathon\n",
    "df6=pd.read_sql_query(\"SELECT game_season,game_year FROM olympic_hosts\",engine)\n",
    "df6['game_year'] = pd.to_numeric(df6['game_year'], errors='coerce')\n",
    "df6\n",
    "# df6.groupby('game_year').agg({\n",
    "#     'game_season':', '.join\n",
    "# }).reset_index()\n",
    "year_counts=df6['game_year'].value_counts().sort_index()\n",
    "df6_1=df6[(df6['game_year'] >= 1924) & (df6['game_year'] <= 1992)]\n",
    "grouped = df6_1.groupby(['game_season', 'game_year']).size().unstack(fill_value=0)\n",
    "grouped = grouped.T\n",
    "# Create the bar chart\n",
    "fig = go.Figure(data=[\n",
    "    go.Bar(name='Winter', x=grouped.index, y=grouped['Winter']),\n",
    "    go.Bar(name='Summer', x=grouped.index, y=grouped['Summer'])\n",
    "])\n",
    "\n",
    "fig.update_layout(\n",
    "    title='Number of occurrences by year and season',\n",
    "    xaxis_title='Années',\n",
    "    barmode='group',\n",
    "    template='plotly_white',\n",
    "    yaxis=dict(\n",
    "        showticklabels=False\n",
    "    ),\n",
    "    xaxis=dict(\n",
    "        tickmode='linear',\n",
    "        tick0=1924,\n",
    "        dtick=4\n",
    "    )\n",
    ")\n",
    "fig.show(renderer='iframe_connected')"
   ]
  },
  {
   "cell_type": "code",
   "execution_count": 11,
   "id": "499587ae-6e7f-448f-b782-b0d6df29042e",
   "metadata": {},
   "outputs": [
    {
     "data": {
      "text/html": [
       "<iframe\n",
       "    scrolling=\"no\"\n",
       "    width=\"100%\"\n",
       "    height=\"545px\"\n",
       "    src=\"iframe_figures/figure_11.html\"\n",
       "    frameborder=\"0\"\n",
       "    allowfullscreen\n",
       "></iframe>\n"
      ]
     },
     "metadata": {},
     "output_type": "display_data"
    }
   ],
   "source": [
    "df6_2=df6[(df6['game_year'] > 1992)]\n",
    "grouped = df6_2.groupby(['game_season', 'game_year']).size().unstack(fill_value=0)\n",
    "grouped = grouped.T\n",
    "# Create the bar chart\n",
    "fig2 = go.Figure(data=[\n",
    "    go.Bar(name='Winter', x=grouped.index, y=grouped['Winter']),\n",
    "    go.Bar(name='Summer', x=grouped.index, y=grouped['Summer'])\n",
    "])\n",
    "\n",
    "fig2.update_layout(\n",
    "    title='Number of occurrences by year and season',\n",
    "    xaxis_title='Années',\n",
    "    barmode='group',\n",
    "    template='plotly_white',\n",
    "    yaxis=dict(\n",
    "        showticklabels=False\n",
    "    ),\n",
    "    xaxis=dict(\n",
    "        tickmode='linear',\n",
    "        tick0=1994,\n",
    "        dtick=2\n",
    "    )\n",
    ")\n",
    "fig2.show(renderer='iframe_connected')"
   ]
  },
  {
   "cell_type": "code",
   "execution_count": 12,
   "id": "14b57471-3f13-4341-90de-e5378e397c47",
   "metadata": {},
   "outputs": [
    {
     "name": "stdout",
     "output_type": "stream",
     "text": [
      "Johnny WEISSMULLER a obtenu 1 medaille GOLD en 100m freestyle men en 1928, 1 medaille GOLD en 400m freestyle men en 1924, 1 medaille GOLD en 100m freestyle men en 1924\n"
     ]
    }
   ],
   "source": [
    "# 7 hackathon\n",
    "df7=pd.read_sql_query(\"SELECT om.event_title,om.medal_type,om.athlete_full_name,oh.game_year FROM olympic_medals as om inner join olympic_hosts as oh on om.slug_game=oh.game_slug\",engine)\n",
    "df7=df7[df7['athlete_full_name'] == 'Johnny WEISSMULLER']\n",
    "df7['message'] = \"1 medaille \"+df7['medal_type']+\" en \"+df7['event_title'] +\" en \"+df7['game_year']\n",
    "df7=df7.groupby('athlete_full_name').agg({'message':', '.join}).reset_index().iloc[0]\n",
    "print(df7['athlete_full_name']+\" a obtenu \"+df7['message'])"
   ]
  },
  {
   "cell_type": "code",
   "execution_count": 13,
   "id": "8c8ce8e6-d81f-49ae-9fc4-7f1e84295d4d",
   "metadata": {},
   "outputs": [
    {
     "name": "stdout",
     "output_type": "stream",
     "text": [
      "le championnat de grenoble-1968 est le 1ers JO durant lesquels tous les pays participants ont envoyé des athlètes de sexe féminin\n"
     ]
    }
   ],
   "source": [
    "# 8 hackathon\n",
    "df8=pd.read_sql_query(\"SELECT om.event_gender,om.country_name,om.slug_game FROM olympic_medals as om\",engine)\n",
    "df8=df8.groupby(['country_name','slug_game']).agg({'event_gender':lambda values: \"Women\" if \"Women\" in ','.join(values).split(',') else \"Men\"}).reset_index()\n",
    "df8=df8.groupby('slug_game').agg({'event_gender':lambda values:\"No\" if \"Men\" in ','.join(values).split(',') else \"Yes\"}).reset_index()\n",
    "df8=df8[df8['event_gender']==\"Yes\"].iloc[0]\n",
    "print(\"le championnat de \"+df8['slug_game']+\" est le 1ers JO durant lesquels tous les pays participants ont envoyé des athlètes de sexe féminin\")"
   ]
  },
  {
   "cell_type": "code",
   "execution_count": 14,
   "id": "a339546c-b1b9-41cc-897e-146d0bfc0621",
   "metadata": {},
   "outputs": [
    {
     "name": "stdout",
     "output_type": "stream",
     "text": [
      "le championnat de londre 2012 avait 57 femme de different pays pour 81 pays\n"
     ]
    }
   ],
   "source": [
    "# 8 hackathon\n",
    "df = pd.read_sql_query(\"SELECT * FROM olympic_medals\", engine)\n",
    "df=df[df['slug_game'] == 'london-2012']\n",
    "pays_filtered=df[df['event_gender'].isin(['Women','Mixed'])]\n",
    "print(\"le championnat de londre 2012 avait \"+str(len(pays_filtered.drop_duplicates(subset=['country_name'])))+\" femme de different pays pour \"+str(len(df.drop_duplicates(subset=['country_name'])))+\" pays\")"
   ]
  },
  {
   "cell_type": "code",
   "execution_count": 15,
   "id": "271ce05a-81e1-4fc9-ab61-0eaf0f31b42f",
   "metadata": {},
   "outputs": [
    {
     "name": "stdout",
     "output_type": "stream",
     "text": [
      "les  sport qui sont aparue 1 seule fois au JO de paris 1900 sont: \n",
      "- foil masters men\n",
      "- pe masters men\n",
      "- sabre masters men\n",
      "- pe amateurs and masters men\n",
      "- 25 kilometres men\n",
      "- Course De Primes Men\n",
      "- army rifle 300m kneeling men\n",
      "- 4000m steeplechase men\n",
      "- Championnat Du Monde Men\n",
      "- au cordon dor 33m men\n",
      "- au chapelet 50m men\n",
      "- au cordon dor 50m men\n",
      "- au chapelet 33m men\n",
      "- sur la perche à la herse men\n",
      "- sur la perche à la pyramide men\n",
      "- high jump mixed\n",
      "- long jump individual mixed\n",
      "- individual 2 balls men\n",
      "- individual 1 ball men\n",
      "- 1000m freestyle men\n",
      "- 4000m freestyle men\n",
      "- 200m obstacle event men\n",
      "- underwater swimming men\n"
     ]
    }
   ],
   "source": [
    "# 9 hackathon\n",
    "df9=pd.read_sql_query(\"SELECT slug_game\t,event_title FROM olympic_medals\",engine)\n",
    "df9 = df9.drop_duplicates(subset=['slug_game','event_title'])\n",
    "dp=df9.duplicated('event_title')\n",
    "df9=df9[~dp]\n",
    "df9[df9['slug_game']=='paris-1900']\n",
    "print(\"les  sport qui sont aparue 1 seule fois au JO de paris 1900 sont: \\n\"+'\\n'.join([\"- \"+row['event_title'] for _index, row in df9[df9['slug_game']=='paris-1900'].iterrows()]))"
   ]
  },
  {
   "cell_type": "code",
   "execution_count": 16,
   "id": "7516cf53-e9e3-40b2-b87d-74a734f37568",
   "metadata": {},
   "outputs": [
    {
     "data": {
      "text/html": [
       "<div>\n",
       "<style scoped>\n",
       "    .dataframe tbody tr th:only-of-type {\n",
       "        vertical-align: middle;\n",
       "    }\n",
       "\n",
       "    .dataframe tbody tr th {\n",
       "        vertical-align: top;\n",
       "    }\n",
       "\n",
       "    .dataframe thead th {\n",
       "        text-align: right;\n",
       "    }\n",
       "</style>\n",
       "<table border=\"1\" class=\"dataframe\">\n",
       "  <thead>\n",
       "    <tr style=\"text-align: right;\">\n",
       "      <th></th>\n",
       "      <th>game_location</th>\n",
       "      <th>game_year</th>\n",
       "    </tr>\n",
       "  </thead>\n",
       "  <tbody>\n",
       "    <tr>\n",
       "      <th>12</th>\n",
       "      <td>Greece</td>\n",
       "      <td>1896, 2004</td>\n",
       "    </tr>\n",
       "    <tr>\n",
       "      <th>21</th>\n",
       "      <td>Sweden</td>\n",
       "      <td>1912</td>\n",
       "    </tr>\n",
       "    <tr>\n",
       "      <th>3</th>\n",
       "      <td>Belgium</td>\n",
       "      <td>1920</td>\n",
       "    </tr>\n",
       "    <tr>\n",
       "      <th>16</th>\n",
       "      <td>Netherlands</td>\n",
       "      <td>1928</td>\n",
       "    </tr>\n",
       "    <tr>\n",
       "      <th>10</th>\n",
       "      <td>Germany</td>\n",
       "      <td>1936, 1936</td>\n",
       "    </tr>\n",
       "    <tr>\n",
       "      <th>11</th>\n",
       "      <td>Great Britain</td>\n",
       "      <td>1948, 1908, 2012</td>\n",
       "    </tr>\n",
       "    <tr>\n",
       "      <th>22</th>\n",
       "      <td>Switzerland</td>\n",
       "      <td>1948, 1928</td>\n",
       "    </tr>\n",
       "    <tr>\n",
       "      <th>8</th>\n",
       "      <td>Finland</td>\n",
       "      <td>1952</td>\n",
       "    </tr>\n",
       "    <tr>\n",
       "      <th>17</th>\n",
       "      <td>Norway</td>\n",
       "      <td>1952, 1994</td>\n",
       "    </tr>\n",
       "    <tr>\n",
       "      <th>1</th>\n",
       "      <td>Australia, Sweden</td>\n",
       "      <td>1956</td>\n",
       "    </tr>\n",
       "    <tr>\n",
       "      <th>24</th>\n",
       "      <td>United States</td>\n",
       "      <td>1960, 1932, 1932, 1904, 2002, 1996, 1984, 1980</td>\n",
       "    </tr>\n",
       "    <tr>\n",
       "      <th>13</th>\n",
       "      <td>Italy</td>\n",
       "      <td>1960, 1956, 2006</td>\n",
       "    </tr>\n",
       "    <tr>\n",
       "      <th>2</th>\n",
       "      <td>Austria</td>\n",
       "      <td>1964, 1976</td>\n",
       "    </tr>\n",
       "    <tr>\n",
       "      <th>15</th>\n",
       "      <td>Mexico</td>\n",
       "      <td>1968</td>\n",
       "    </tr>\n",
       "    <tr>\n",
       "      <th>9</th>\n",
       "      <td>France</td>\n",
       "      <td>1968, 1924, 1924, 1900, 1992</td>\n",
       "    </tr>\n",
       "    <tr>\n",
       "      <th>7</th>\n",
       "      <td>Federal Republic of Germany</td>\n",
       "      <td>1972</td>\n",
       "    </tr>\n",
       "    <tr>\n",
       "      <th>14</th>\n",
       "      <td>Japan</td>\n",
       "      <td>1972, 1964, 2020, 1998</td>\n",
       "    </tr>\n",
       "    <tr>\n",
       "      <th>23</th>\n",
       "      <td>USSR</td>\n",
       "      <td>1980</td>\n",
       "    </tr>\n",
       "    <tr>\n",
       "      <th>25</th>\n",
       "      <td>Yugoslavia</td>\n",
       "      <td>1984</td>\n",
       "    </tr>\n",
       "    <tr>\n",
       "      <th>20</th>\n",
       "      <td>Spain</td>\n",
       "      <td>1992</td>\n",
       "    </tr>\n",
       "    <tr>\n",
       "      <th>0</th>\n",
       "      <td>Australia</td>\n",
       "      <td>2000</td>\n",
       "    </tr>\n",
       "    <tr>\n",
       "      <th>5</th>\n",
       "      <td>Canada</td>\n",
       "      <td>2010, 1988, 1976</td>\n",
       "    </tr>\n",
       "    <tr>\n",
       "      <th>19</th>\n",
       "      <td>Russian Federation</td>\n",
       "      <td>2014</td>\n",
       "    </tr>\n",
       "    <tr>\n",
       "      <th>4</th>\n",
       "      <td>Brazil</td>\n",
       "      <td>2016</td>\n",
       "    </tr>\n",
       "    <tr>\n",
       "      <th>18</th>\n",
       "      <td>Republic of Korea</td>\n",
       "      <td>2018, 1988</td>\n",
       "    </tr>\n",
       "    <tr>\n",
       "      <th>6</th>\n",
       "      <td>China</td>\n",
       "      <td>2022, 2008</td>\n",
       "    </tr>\n",
       "  </tbody>\n",
       "</table>\n",
       "</div>"
      ],
      "text/plain": [
       "                  game_location  \\\n",
       "12                       Greece   \n",
       "21                       Sweden   \n",
       "3                       Belgium   \n",
       "16                  Netherlands   \n",
       "10                      Germany   \n",
       "11                Great Britain   \n",
       "22                  Switzerland   \n",
       "8                       Finland   \n",
       "17                       Norway   \n",
       "1             Australia, Sweden   \n",
       "24                United States   \n",
       "13                        Italy   \n",
       "2                       Austria   \n",
       "15                       Mexico   \n",
       "9                        France   \n",
       "7   Federal Republic of Germany   \n",
       "14                        Japan   \n",
       "23                         USSR   \n",
       "25                   Yugoslavia   \n",
       "20                        Spain   \n",
       "0                     Australia   \n",
       "5                        Canada   \n",
       "19           Russian Federation   \n",
       "4                        Brazil   \n",
       "18            Republic of Korea   \n",
       "6                         China   \n",
       "\n",
       "                                         game_year  \n",
       "12                                      1896, 2004  \n",
       "21                                            1912  \n",
       "3                                             1920  \n",
       "16                                            1928  \n",
       "10                                      1936, 1936  \n",
       "11                                1948, 1908, 2012  \n",
       "22                                      1948, 1928  \n",
       "8                                             1952  \n",
       "17                                      1952, 1994  \n",
       "1                                             1956  \n",
       "24  1960, 1932, 1932, 1904, 2002, 1996, 1984, 1980  \n",
       "13                                1960, 1956, 2006  \n",
       "2                                       1964, 1976  \n",
       "15                                            1968  \n",
       "9                     1968, 1924, 1924, 1900, 1992  \n",
       "7                                             1972  \n",
       "14                          1972, 1964, 2020, 1998  \n",
       "23                                            1980  \n",
       "25                                            1984  \n",
       "20                                            1992  \n",
       "0                                             2000  \n",
       "5                                 2010, 1988, 1976  \n",
       "19                                            2014  \n",
       "4                                             2016  \n",
       "18                                      2018, 1988  \n",
       "6                                       2022, 2008  "
      ]
     },
     "execution_count": 16,
     "metadata": {},
     "output_type": "execute_result"
    }
   ],
   "source": [
    "# 10 hackathon\n",
    "df10=pd.read_sql_query(\"SELECT * FROM olympic_hosts\",engine)\n",
    "df10['game_year'] = pd.to_numeric(df10['game_year'], errors='coerce')\n",
    "df10=df10.groupby('game_location').agg({'game_year':lambda values:', '.join([str(e) for e in values])}).reset_index()\n",
    "df10.sort_values(by='game_year')"
   ]
  },
  {
   "cell_type": "code",
   "execution_count": 17,
   "id": "2dab0699-94fa-4fef-b489-f757d9cdc113",
   "metadata": {},
   "outputs": [
    {
     "name": "stdout",
     "output_type": "stream",
     "text": [
      "il y a 11274 athletes de 213 pays different pour 42 sport different dans un total de 446 epreuves diferentes\n"
     ]
    }
   ],
   "source": [
    "# 11 hackathon\n",
    "df11=pd.read_sql_query(\"SELECT ore.athlete_url,ore.athlete_full_name,ore.event_title,ore.discipline_title,ore.country_name,oh.game_season,oh.game_year FROM olympic_results as ore inner join olympic_hosts as oh on ore.slug_game=oh.game_slug\",engine)\n",
    "df11=df11[df11['game_season']=='Summer']\n",
    "df11[df11['game_year']=='2016']\n",
    "print(\"il y a \"+str(len(df11.drop_duplicates(subset=['athlete_full_name','athlete_url'])))+\" athletes de \"+str(len(df11.drop_duplicates(subset=['country_name'])))+\" pays different pour \"+str(len(df11.drop_duplicates(subset=['discipline_title'])))+\" sport different dans un total de \"+str(len(df11.drop_duplicates(subset=['event_title'])))+\" epreuves diferentes\")"
   ]
  },
  {
   "cell_type": "code",
   "execution_count": 18,
   "id": "9dc5efea-c37e-46f4-900f-945faa0d84b5",
   "metadata": {},
   "outputs": [
    {
     "data": {
      "text/html": [
       "<iframe\n",
       "    scrolling=\"no\"\n",
       "    width=\"100%\"\n",
       "    height=\"545px\"\n",
       "    src=\"iframe_figures/figure_18.html\"\n",
       "    frameborder=\"0\"\n",
       "    allowfullscreen\n",
       "></iframe>\n"
      ]
     },
     "metadata": {},
     "output_type": "display_data"
    }
   ],
   "source": [
    "df = pd.read_sql_query(\"SELECT medal_type,country_name FROM olympic_medals\", engine)\n",
    "df['medal_type']=pd.to_numeric(df['medal_type'].replace({'GOLD': '3', 'SILVER': '2','BRONZE': '1'}), errors='coerce')\n",
    "df=df.groupby(['country_name']).agg({'medal_type': lambda x: sum(x)}).reset_index()\n",
    "fig = px.bar(df.sort_values(by='medal_type' ,ascending=False).head(30), x='country_name', y='medal_type', title='Top 30 des pays avec le plus de médaille des JO')\n",
    "fig.update_layout(\n",
    "    xaxis_title='Pays',\n",
    "    barmode='group',\n",
    "    template='plotly_white',\n",
    "    yaxis=dict(\n",
    "        showticklabels=False\n",
    "    )\n",
    ")\n",
    "fig.show(renderer='iframe_connected')"
   ]
  },
  {
   "cell_type": "code",
   "execution_count": 24,
   "id": "34ecc909-4e8b-46e1-a95f-1656a0ae83d2",
   "metadata": {},
   "outputs": [
    {
     "data": {
      "text/html": [
       "<iframe\n",
       "    scrolling=\"no\"\n",
       "    width=\"100%\"\n",
       "    height=\"545px\"\n",
       "    src=\"iframe_figures/figure_24.html\"\n",
       "    frameborder=\"0\"\n",
       "    allowfullscreen\n",
       "></iframe>\n"
      ]
     },
     "metadata": {},
     "output_type": "display_data"
    }
   ],
   "source": [
    "df = pd.read_sql_query(\"SELECT om.medal_type,om.country_name,oh.game_season FROM olympic_medals as om inner join olympic_hosts as oh on om.slug_game=oh.game_slug\", engine)\n",
    "df=df[df['game_season']=='Summer']\n",
    "df['medal_type']=pd.to_numeric(df['medal_type'].replace({'GOLD': '3', 'SILVER': '2','BRONZE': '1'}), errors='coerce')\n",
    "df=df.groupby(['country_name']).agg({'medal_type': lambda x: sum(x)}).reset_index()\n",
    "fig = px.bar(df.sort_values(by='medal_type' ,ascending=False).head(30), x='country_name', y='medal_type', title='Top 30 des pays avec le plus de médaille des JO d\\'ete')\n",
    "fig.update_layout(\n",
    "    xaxis_title='Pays',\n",
    "    barmode='group',\n",
    "    template='plotly_white',\n",
    "    yaxis=dict(\n",
    "        showticklabels=False\n",
    "    )\n",
    ")\n",
    "fig.show(renderer='iframe_connected')"
   ]
  },
  {
   "cell_type": "code",
   "execution_count": 26,
   "id": "3472ee85-5015-4698-bad7-3b1b291cc4d2",
   "metadata": {},
   "outputs": [
    {
     "data": {
      "text/html": [
       "<iframe\n",
       "    scrolling=\"no\"\n",
       "    width=\"100%\"\n",
       "    height=\"545px\"\n",
       "    src=\"iframe_figures/figure_26.html\"\n",
       "    frameborder=\"0\"\n",
       "    allowfullscreen\n",
       "></iframe>\n"
      ]
     },
     "metadata": {},
     "output_type": "display_data"
    }
   ],
   "source": [
    "df = pd.read_sql_query(\"SELECT om.medal_type,om.country_name,oh.game_season FROM olympic_medals as om inner join olympic_hosts as oh on om.slug_game=oh.game_slug\", engine)\n",
    "df=df[df['game_season']=='Winter']\n",
    "df['medal_type']=pd.to_numeric(df['medal_type'].replace({'GOLD': '3', 'SILVER': '2','BRONZE': '1'}), errors='coerce')\n",
    "df=df.groupby(['country_name']).agg({'medal_type': lambda x: sum(x)}).reset_index()\n",
    "fig = px.bar(df.sort_values(by='medal_type' ,ascending=False).head(30), x='country_name', y='medal_type', title='Top 30 des pays avec le plus de médaille des JO d\\'hiver')\n",
    "fig.update_layout(\n",
    "    xaxis_title='Pays',\n",
    "    barmode='group',\n",
    "    template='plotly_white',\n",
    "    yaxis=dict(\n",
    "        showticklabels=False\n",
    "    )\n",
    ")\n",
    "fig.show(renderer='iframe_connected')"
   ]
  },
  {
   "cell_type": "code",
   "execution_count": 25,
   "id": "ce149ca9-0392-4e9f-9b5d-fe551b251156",
   "metadata": {},
   "outputs": [
    {
     "data": {
      "text/html": [
       "<iframe\n",
       "    scrolling=\"no\"\n",
       "    width=\"100%\"\n",
       "    height=\"545px\"\n",
       "    src=\"iframe_figures/figure_25.html\"\n",
       "    frameborder=\"0\"\n",
       "    allowfullscreen\n",
       "></iframe>\n"
      ]
     },
     "metadata": {},
     "output_type": "display_data"
    }
   ],
   "source": [
    "df = pd.read_sql_query(\"SELECT country_name,athlete_full_name FROM olympic_medals\", engine)\n",
    "df.groupby(['athlete_full_name']).sum().reset_index()\n",
    "df['nombre'] = 1\n",
    "fig = px.bar(df.groupby(['country_name']).agg({'nombre': lambda x: sum(x)}).reset_index().sort_values(by='nombre' ,ascending=False).head(30), x='country_name', y='nombre', title='Top 30 des pays avec le plus d\\'athletes des JO')\n",
    "fig.update_layout(\n",
    "    xaxis_title='Pays',\n",
    "    barmode='group',\n",
    "    template='plotly_white',\n",
    "    yaxis=dict(\n",
    "        showticklabels=False\n",
    "    )\n",
    ")\n",
    "fig.show(renderer='iframe_connected')"
   ]
  },
  {
   "cell_type": "code",
   "execution_count": 29,
   "id": "7cd243bb-40b9-4e87-bfa9-688d4c90d296",
   "metadata": {},
   "outputs": [
    {
     "data": {
      "text/html": [
       "<iframe\n",
       "    scrolling=\"no\"\n",
       "    width=\"100%\"\n",
       "    height=\"545px\"\n",
       "    src=\"iframe_figures/figure_29.html\"\n",
       "    frameborder=\"0\"\n",
       "    allowfullscreen\n",
       "></iframe>\n"
      ]
     },
     "metadata": {},
     "output_type": "display_data"
    }
   ],
   "source": [
    "df=pd.read_sql_query(\"SELECT ore.rank_position,ore.country_name,ore.country_3_letter_code,oh.game_year,oh.game_season FROM olympic_results as ore inner join olympic_hosts as oh on oh.game_slug=ore.slug_game\", engine)\n",
    "annee='2022'\n",
    "df=df[df['game_year']==annee]\n",
    "df=df[df['game_season']=='Winter']\n",
    "df['rank_position']=pd.to_numeric(df['rank_position'], errors='coerce')\n",
    "df=df[~df['rank_position'].isna()]\n",
    "df=df.groupby(['country_name','country_3_letter_code']).agg({'rank_position':lambda x:sum(x)}).reset_index()\n",
    "df=df.sort_values(by='rank_position' ,ascending=False).head(30)\n",
    "df['pib'] = np.nan\n",
    "dfpid = pd.read_csv('./pib 1.csv')\n",
    "dfpid['Country Name,\"Country Code\",\"Indicator Name\",\"Indicator Code\",\"1960\",\"1961\",\"1962\",\"1963\",\"1964\",\"1965\",\"1966\",\"1967\",\"1968\",\"1969\",\"1970\",\"1971\",\"1972\",\"1973\",\"1974\",\"1975\",\"1976\",\"1977\",\"1978\",\"1979\",\"1980\",\"1981\",\"1982\",\"1983\",\"1984\",\"1985\",\"1986\",\"1987\",\"1988\",\"1989\",\"1990\",\"1991\",\"1992\",\"1993\",\"1994\",\"1995\",\"1996\",\"1997\",\"1998\",\"1999\",\"2000\",\"2001\",\"2002\",\"2003\",\"2004\",\"2005\",\"2006\",\"2007\",\"2008\",\"2009\",\"2010\",\"2011\",\"2012\",\"2013\",\"2014\",\"2015\",\"2016\",\"2017\",\"2018\",\"2019\",\"2020\",\"2021\",\"2022\",\"2023\",']=dfpid['Country Name,\"Country Code\",\"Indicator Name\",\"Indicator Code\",\"1960\",\"1961\",\"1962\",\"1963\",\"1964\",\"1965\",\"1966\",\"1967\",\"1968\",\"1969\",\"1970\",\"1971\",\"1972\",\"1973\",\"1974\",\"1975\",\"1976\",\"1977\",\"1978\",\"1979\",\"1980\",\"1981\",\"1982\",\"1983\",\"1984\",\"1985\",\"1986\",\"1987\",\"1988\",\"1989\",\"1990\",\"1991\",\"1992\",\"1993\",\"1994\",\"1995\",\"1996\",\"1997\",\"1998\",\"1999\",\"2000\",\"2001\",\"2002\",\"2003\",\"2004\",\"2005\",\"2006\",\"2007\",\"2008\",\"2009\",\"2010\",\"2011\",\"2012\",\"2013\",\"2014\",\"2015\",\"2016\",\"2017\",\"2018\",\"2019\",\"2020\",\"2021\",\"2022\",\"2023\",'].str.replace('\"', '')\n",
    "df_split=dfpid['Country Name,\"Country Code\",\"Indicator Name\",\"Indicator Code\",\"1960\",\"1961\",\"1962\",\"1963\",\"1964\",\"1965\",\"1966\",\"1967\",\"1968\",\"1969\",\"1970\",\"1971\",\"1972\",\"1973\",\"1974\",\"1975\",\"1976\",\"1977\",\"1978\",\"1979\",\"1980\",\"1981\",\"1982\",\"1983\",\"1984\",\"1985\",\"1986\",\"1987\",\"1988\",\"1989\",\"1990\",\"1991\",\"1992\",\"1993\",\"1994\",\"1995\",\"1996\",\"1997\",\"1998\",\"1999\",\"2000\",\"2001\",\"2002\",\"2003\",\"2004\",\"2005\",\"2006\",\"2007\",\"2008\",\"2009\",\"2010\",\"2011\",\"2012\",\"2013\",\"2014\",\"2015\",\"2016\",\"2017\",\"2018\",\"2019\",\"2020\",\"2021\",\"2022\",\"2023\",'].str.split(',', expand=True)\n",
    "compt=0\n",
    "for i in df_split.columns:\n",
    "    if i>3:\n",
    "        df_split.rename(columns={i: str(1960+compt)}, inplace=True)\n",
    "        compt+=1\n",
    "new_df = df_split[[1, annee]]\n",
    "df['pib'] = df.apply(lambda x: new_df.loc[new_df[1] == x['country_3_letter_code'], annee].iloc[0] if x['country_3_letter_code'] in new_df[1].values else None, axis=1)\n",
    "df=df.dropna(subset=['pib'])\n",
    "df['pib']=pd.to_numeric(df['pib'], errors='coerce')\n",
    "df = df.sort_values(by='rank_position', ascending=False)\n",
    "\n",
    "fig = px.bar(df, x='country_name', y='pib', title='Classement des pays au JO 2022 avec leur PIB', text='pib')\n",
    "fig.update_traces(texttemplate='%{text:.2s}', textposition='outside')\n",
    "fig.update_layout(\n",
    "    xaxis_title='Pays',\n",
    "    yaxis_title='PIB',\n",
    "    template='plotly_white'\n",
    ")\n",
    "fig.show(renderer='iframe_connected')"
   ]
  }
 ],
 "metadata": {
  "kernelspec": {
   "display_name": "Python 3 (ipykernel)",
   "language": "python",
   "name": "python3"
  },
  "language_info": {
   "codemirror_mode": {
    "name": "ipython",
    "version": 3
   },
   "file_extension": ".py",
   "mimetype": "text/x-python",
   "name": "python",
   "nbconvert_exporter": "python",
   "pygments_lexer": "ipython3",
   "version": "3.12.3"
  }
 },
 "nbformat": 4,
 "nbformat_minor": 5
}
